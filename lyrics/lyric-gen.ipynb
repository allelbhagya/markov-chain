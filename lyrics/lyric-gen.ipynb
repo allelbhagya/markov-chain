{
  "cells": [
    {
      "cell_type": "code",
      "execution_count": 23,
      "metadata": {
        "trusted": true
      },
      "outputs": [],
      "source": [
        "import numpy as np\n",
        "import pandas as pd\n",
        "import os\n",
        "import re\n",
        "import string\n",
        "from nltk.tokenize import word_tokenize\n",
        "from nltk.corpus import stopwords\n",
        "import random"
      ]
    },
    {
      "cell_type": "code",
      "execution_count": 24,
      "metadata": {
        "trusted": true
      },
      "outputs": [
        {
          "name": "stdout",
          "output_type": "stream",
          "text": [
            "number of lines =  30520\n"
          ]
        }
      ],
      "source": [
        "path = \"./lyrics/\"\n",
        "\n",
        "def read_all(path):\n",
        "    txt = []\n",
        "    for _, _, files in os.walk(path):\n",
        "        for file in files:\n",
        "            with open(os.path.join(path, file), 'r', encoding='utf-8') as f:\n",
        "                in_lyric = False\n",
        "                for line in f:\n",
        "                    line = line.strip()\n",
        "                    if line == '----------':\n",
        "                        if in_lyric:\n",
        "                            in_lyric = False\n",
        "                            txt.append(\"\")\n",
        "                    elif line:\n",
        "                        if line.isupper() and line.isalpha():\n",
        "                            in_lyric = True \n",
        "                        if in_lyric:\n",
        "                            txt.append(line) \n",
        "    return txt\n",
        "lyrics = read_all(path)\n",
        "print(\"number of lines = \", len(lyrics))\n"
      ]
    },
    {
      "cell_type": "code",
      "execution_count": 25,
      "metadata": {
        "trusted": true
      },
      "outputs": [
        {
          "name": "stdout",
          "output_type": "stream",
          "text": [
            "number of words =  198945\n"
          ]
        }
      ],
      "source": [
        "def clean_txt(txt):\n",
        "    cleaned_txt = []\n",
        "    for line in txt:\n",
        "        line = line.lower()\n",
        "        line = re.sub(r\"[,.\\\"\\'!@#$%^&*(){}?/;`~:<>+=-\\\\]\", \"\", line)\n",
        "        tokens = word_tokenize(line)\n",
        "        words = [word for word in tokens if word.isalpha()]\n",
        "        cleaned_txt+=words\n",
        "    return cleaned_txt\n",
        "\n",
        "cleaned = clean_txt(lyrics)\n",
        "print(\"number of words = \", len(cleaned))"
      ]
    },
    {
      "cell_type": "code",
      "execution_count": 26,
      "metadata": {
        "trusted": true
      },
      "outputs": [
        {
          "name": "stdout",
          "output_type": "stream",
          "text": [
            "['i', 'you', 'but', 'i', 'told']\n"
          ]
        }
      ],
      "source": [
        "print(cleaned[:5])"
      ]
    },
    {
      "cell_type": "code",
      "execution_count": 27,
      "metadata": {
        "trusted": true
      },
      "outputs": [],
      "source": [
        "def make_markov_model(cleaned_stories, n_gram=2):\n",
        "    markov_model = {}\n",
        "    for i in range(len(cleaned_stories)-n_gram-1):\n",
        "        curr_state, next_state = \"\", \"\"\n",
        "        for j in range(n_gram):\n",
        "            curr_state += cleaned_stories[i+j] + \" \"\n",
        "            next_state += cleaned_stories[i+j+n_gram] + \" \"\n",
        "        curr_state = curr_state[:-1]\n",
        "        next_state = next_state[:-1]\n",
        "        if curr_state not in markov_model:\n",
        "            markov_model[curr_state] = {}\n",
        "            markov_model[curr_state][next_state] = 1\n",
        "        else:\n",
        "            if next_state in markov_model[curr_state]:\n",
        "                markov_model[curr_state][next_state] += 1\n",
        "            else:\n",
        "                markov_model[curr_state][next_state] = 1\n",
        "    \n",
        "    # calculating transition probabilities\n",
        "    for curr_state, transition in markov_model.items():\n",
        "        total = sum(transition.values())\n",
        "        for state, count in transition.items():\n",
        "            markov_model[curr_state][state] = count/total\n",
        "        \n",
        "    return markov_model"
      ]
    },
    {
      "cell_type": "code",
      "execution_count": 28,
      "metadata": {
        "trusted": true
      },
      "outputs": [],
      "source": [
        "markov_model = make_markov_model(cleaned)"
      ]
    },
    {
      "cell_type": "code",
      "execution_count": 29,
      "metadata": {
        "trusted": true
      },
      "outputs": [
        {
          "name": "stdout",
          "output_type": "stream",
          "text": [
            "number of states =  75794\n"
          ]
        }
      ],
      "source": [
        "print(\"number of states = \", len(markov_model.keys()))"
      ]
    },
    {
      "cell_type": "code",
      "execution_count": 30,
      "metadata": {
        "trusted": true
      },
      "outputs": [
        {
          "name": "stdout",
          "output_type": "stream",
          "text": [
            "All possible transitions from 'your love' state: \n",
            "\n",
            "{'how i': 0.04878048780487805, 'when i': 0.024390243902439025, 'is fadin': 0.1951219512195122, 'is fadinknow': 0.024390243902439025, 'is fadinhook': 0.024390243902439025, 'shake and': 0.04878048780487805, 'is magical': 0.024390243902439025, 'in my': 0.04878048780487805, 'and you': 0.024390243902439025, 'always give': 0.024390243902439025, 'i need': 0.024390243902439025, 'i walked': 0.04878048780487805, 'at night': 0.024390243902439025, 'all along': 0.024390243902439025, 'i only': 0.024390243902439025, 'is good': 0.024390243902439025, 'i took': 0.024390243902439025, 'down didnt': 0.024390243902439025, 'down no': 0.024390243902439025, 'down u': 0.04878048780487805, 'down there': 0.12195121951219512, 'seat dont': 0.024390243902439025, 'the arms': 0.024390243902439025, 'tonight well': 0.024390243902439025, 'in the': 0.024390243902439025}\n"
          ]
        }
      ],
      "source": [
        "print(\"All possible transitions from 'your love' state: \\n\")\n",
        "print(markov_model['your love'])"
      ]
    },
    {
      "cell_type": "code",
      "execution_count": 31,
      "metadata": {
        "trusted": true
      },
      "outputs": [],
      "source": [
        "def generate_story(markov_model, limit=100, start='your love'):\n",
        "    n = 0\n",
        "    curr_state = start\n",
        "    next_state = None\n",
        "    story = \"\"\n",
        "    story+=curr_state+\" \"\n",
        "    while n<limit:\n",
        "        next_state = random.choices(list(markov_model[curr_state].keys()),\n",
        "                                    list(markov_model[curr_state].values()))\n",
        "        \n",
        "        curr_state = next_state[0]\n",
        "        story+=curr_state+\" \"\n",
        "        n+=1\n",
        "    return story"
      ]
    },
    {
      "cell_type": "code",
      "execution_count": 32,
      "metadata": {
        "trusted": true
      },
      "outputs": [
        {
          "name": "stdout",
          "output_type": "stream",
          "text": [
            "->  can you relate my girls gone and she answered no to me whatever you want get out your \n",
            "->  can you stay lil mama i dont play lil mama what chu say lil mama can you stay \n",
            "->  can you stay lil mama i feel so bad so bad sometimes i wish you would take my \n",
            "->  can you can you can hear the blood is real let democracy take u higher everybody wants find \n",
            "->  can you just leave it all over with one peppercorn sing holly go whistle and ivy i harrowed \n",
            "->  can you can you catch a cab to manhattan with that broadway actin you hype that belly shitd \n",
            "->  can you bring your price down lil boosie with the stars in it new porsche condo living room \n",
            "->  can you just leave me standing there i would not she went to the devil verse insurance where \n"
          ]
        }
      ],
      "source": [
        "for i in range(1,9):\n",
        "    print(\"-> \", generate_story(markov_model, start=\"can you\", limit=8))"
      ]
    },
    {
      "cell_type": "code",
      "execution_count": 33,
      "metadata": {},
      "outputs": [
        {
          "name": "stdout",
          "output_type": "stream",
          "text": [
            "->  baby i would show you guide you to call mine girl i got a lot of figures im \n",
            "->  baby i love u in new york they wont say that ure better off being together hold my \n",
            "->  baby i had to run the outcome is usually a beatdown brutally fuck who you be or where \n",
            "->  baby i brainstorm call me flood head married to the rover to the project b and c lex \n",
            "->  baby i love u this thing we got the soul the steps you take nixga i was toting \n",
            "->  baby i wan na play get funky she the new kings of the world is yours we the \n",
            "->  baby i love u i love her somethin vicious and im just saying im in one blink i \n",
            "->  baby i would do a kingdoms henceforth a dedicated sort a member of the war where my enemy \n"
          ]
        }
      ],
      "source": [
        "for i in range(1,9):\n",
        "    print(\"-> \", generate_story(markov_model, start=\"baby i\", limit=8))"
      ]
    }
  ],
  "metadata": {
    "kernelspec": {
      "display_name": "Python 3",
      "language": "python",
      "name": "python3"
    },
    "language_info": {
      "codemirror_mode": {
        "name": "ipython",
        "version": 3
      },
      "file_extension": ".py",
      "mimetype": "text/x-python",
      "name": "python",
      "nbconvert_exporter": "python",
      "pygments_lexer": "ipython3",
      "version": "3.10.11"
    }
  },
  "nbformat": 4,
  "nbformat_minor": 4
}
