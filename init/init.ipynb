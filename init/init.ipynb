{
 "cells": [
  {
   "cell_type": "code",
   "execution_count": 11,
   "metadata": {},
   "outputs": [],
   "source": [
    "import random"
   ]
  },
  {
   "cell_type": "code",
   "execution_count": 12,
   "metadata": {},
   "outputs": [],
   "source": [
    "def build_markov_chain(corpus, order=1):\n",
    "    chain = {}\n",
    "    words = corpus.split()\n",
    "    \n",
    "    for i in range(len(words) - order):\n",
    "        prefix = tuple(words[i:i + order])\n",
    "        suffix = words[i + order]\n",
    "        \n",
    "        if prefix in chain:\n",
    "            chain[prefix].append(suffix)\n",
    "        else:\n",
    "            chain[prefix] = [suffix]\n",
    "    \n",
    "    return chain"
   ]
  },
  {
   "cell_type": "code",
   "execution_count": 13,
   "metadata": {},
   "outputs": [],
   "source": [
    "def generate_text(chain, length=20, seed=None):\n",
    "    if seed is None:\n",
    "        seed = random.choice(list(chain.keys()))\n",
    "    \n",
    "    generated = list(seed)\n",
    "    \n",
    "    for _ in range(length - len(seed)):\n",
    "        prefix = tuple(generated[-len(seed):])\n",
    "        if prefix in chain:\n",
    "            next_word = random.choice(chain[prefix])\n",
    "            generated.append(next_word)\n",
    "        else:\n",
    "            break\n",
    "    \n",
    "    return ' '.join(generated)"
   ]
  },
  {
   "cell_type": "code",
   "execution_count": 14,
   "metadata": {},
   "outputs": [],
   "source": [
    "input_text = \"\"\"\n",
    "Artificial intelligence (AI) is intelligence demonstrated by machines, in contrast to the natural intelligence displayed by humans and animals.\n",
    "Leading AI textbooks define the field as the study of \"intelligent agents\": any device that perceives its environment and takes actions that maximize its chance of successfully achieving its goals.\n",
    "\"\"\""
   ]
  },
  {
   "cell_type": "code",
   "execution_count": 15,
   "metadata": {},
   "outputs": [],
   "source": [
    "markov_chain = build_markov_chain(input_text, order=1)\n",
    "\n",
    "generated_text = generate_text(markov_chain, length=100)\n"
   ]
  },
  {
   "cell_type": "code",
   "execution_count": 16,
   "metadata": {},
   "outputs": [
    {
     "data": {
      "text/plain": [
       "'define the study of \"intelligent agents\": any device that maximize its chance of \"intelligent agents\": any device that perceives its chance of successfully achieving its goals.'"
      ]
     },
     "execution_count": 16,
     "metadata": {},
     "output_type": "execute_result"
    }
   ],
   "source": [
    "generated_text\n"
   ]
  }
 ],
 "metadata": {
  "kernelspec": {
   "display_name": "Python 3",
   "language": "python",
   "name": "python3"
  },
  "language_info": {
   "codemirror_mode": {
    "name": "ipython",
    "version": 3
   },
   "file_extension": ".py",
   "mimetype": "text/x-python",
   "name": "python",
   "nbconvert_exporter": "python",
   "pygments_lexer": "ipython3",
   "version": "3.10.11"
  },
  "orig_nbformat": 4
 },
 "nbformat": 4,
 "nbformat_minor": 2
}
