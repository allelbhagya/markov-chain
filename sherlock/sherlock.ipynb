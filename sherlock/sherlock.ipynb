{
 "cells": [
  {
   "cell_type": "markdown",
   "metadata": {},
   "source": [
    "### Markov Chain\n",
    "\n",
    "MC = {States, Transitions}"
   ]
  },
  {
   "cell_type": "code",
   "execution_count": 1,
   "metadata": {},
   "outputs": [],
   "source": [
    "import numpy as np\n",
    "import pandas as pd\n",
    "import os\n",
    "import re\n",
    "import string\n",
    "from nltk.tokenize import word_tokenize\n",
    "from nltk.corpus import stopwords\n",
    "import random"
   ]
  },
  {
   "cell_type": "code",
   "execution_count": 3,
   "metadata": {},
   "outputs": [
    {
     "name": "stdout",
     "output_type": "stream",
     "text": [
      "number of lines =  430042\n"
     ]
    }
   ],
   "source": [
    "story_path = \"../sherlock/sherlock/\"\n",
    "\n",
    "def read_all_stories(story_path):\n",
    "    txt = []\n",
    "    for _, _, files in os.walk(story_path):\n",
    "        for file in files:\n",
    "            with open(story_path+file) as f:\n",
    "                for line in f:\n",
    "                    line = line.strip()\n",
    "                    if line=='----------': break\n",
    "                    if line!='':txt.append(line)\n",
    "    return txt\n",
    "        \n",
    "stories = read_all_stories(story_path)\n",
    "print(\"number of lines = \", len(stories))"
   ]
  },
  {
   "cell_type": "code",
   "execution_count": 4,
   "metadata": {},
   "outputs": [
    {
     "name": "stdout",
     "output_type": "stream",
     "text": [
      "number of words =  4664220\n"
     ]
    }
   ],
   "source": [
    "def clean_txt(txt):\n",
    "    cleaned_txt = []\n",
    "    for line in txt:\n",
    "        line = line.lower()\n",
    "        line = re.sub(r\"[,.\\\"\\'!@#$%^&*(){}?/;`~:<>+=-\\\\]\", \"\", line)\n",
    "        tokens = word_tokenize(line)\n",
    "        words = [word for word in tokens if word.isalpha()]\n",
    "        cleaned_txt+=words\n",
    "    return cleaned_txt\n",
    "\n",
    "cleaned_stories = clean_txt(stories)\n",
    "print(\"number of words = \", len(cleaned_stories))"
   ]
  },
  {
   "cell_type": "code",
   "execution_count": 5,
   "metadata": {},
   "outputs": [],
   "source": [
    "def make_markov_model(cleaned_stories, n_gram=2):\n",
    "    markov_model = {}\n",
    "    for i in range(len(cleaned_stories)-n_gram-1):\n",
    "        curr_state, next_state = \"\", \"\"\n",
    "        for j in range(n_gram):\n",
    "            curr_state += cleaned_stories[i+j] + \" \"\n",
    "            next_state += cleaned_stories[i+j+n_gram] + \" \"\n",
    "        curr_state = curr_state[:-1]\n",
    "        next_state = next_state[:-1]\n",
    "        if curr_state not in markov_model:\n",
    "            markov_model[curr_state] = {}\n",
    "            markov_model[curr_state][next_state] = 1\n",
    "        else:\n",
    "            if next_state in markov_model[curr_state]:\n",
    "                markov_model[curr_state][next_state] += 1\n",
    "            else:\n",
    "                markov_model[curr_state][next_state] = 1\n",
    "    \n",
    "    # calculating transition probabilities\n",
    "    for curr_state, transition in markov_model.items():\n",
    "        total = sum(transition.values())\n",
    "        for state, count in transition.items():\n",
    "            markov_model[curr_state][state] = count/total\n",
    "        \n",
    "    return markov_model"
   ]
  },
  {
   "cell_type": "code",
   "execution_count": 6,
   "metadata": {},
   "outputs": [],
   "source": [
    "markov_model = make_markov_model(cleaned_stories)"
   ]
  },
  {
   "cell_type": "code",
   "execution_count": 7,
   "metadata": {},
   "outputs": [
    {
     "name": "stdout",
     "output_type": "stream",
     "text": [
      "number of states =  208670\n"
     ]
    }
   ],
   "source": [
    "print(\"number of states = \", len(markov_model.keys()))"
   ]
  },
  {
   "cell_type": "code",
   "execution_count": 8,
   "metadata": {},
   "outputs": [
    {
     "name": "stdout",
     "output_type": "stream",
     "text": [
      "All possible transitions from 'the game' state: \n",
      "\n",
      "{'your letter': 0.02702702702702703, 'was up': 0.09009009009009009, 'is afoot': 0.036036036036036036, 'for the': 0.036036036036036036, 'was in': 0.02702702702702703, 'is hardly': 0.02702702702702703, 'would have': 0.036036036036036036, 'is up': 0.06306306306306306, 'is and': 0.036036036036036036, 'in their': 0.036036036036036036, 'was whist': 0.036036036036036036, 'in that': 0.036036036036036036, 'the lack': 0.036036036036036036, 'for all': 0.06306306306306306, 'may wander': 0.02702702702702703, 'now a': 0.02702702702702703, 'my own': 0.02702702702702703, 'at any': 0.02702702702702703, 'mr holmes': 0.02702702702702703, 'ay whats': 0.02702702702702703, 'my friend': 0.02702702702702703, 'fairly by': 0.02702702702702703, 'is not': 0.02702702702702703, 'was not': 0.02702702702702703, 'was afoot': 0.036036036036036036, 'worth it': 0.02702702702702703, 'you are': 0.02702702702702703, 'i am': 0.02702702702702703, 'now count': 0.02702702702702703}\n"
     ]
    }
   ],
   "source": [
    "print(\"All possible transitions from 'the game' state: \\n\")\n",
    "print(markov_model['the game'])"
   ]
  },
  {
   "cell_type": "code",
   "execution_count": 9,
   "metadata": {},
   "outputs": [],
   "source": [
    "def generate_story(markov_model, limit=100, start='my god'):\n",
    "    n = 0\n",
    "    curr_state = start\n",
    "    next_state = None\n",
    "    story = \"\"\n",
    "    story+=curr_state+\" \"\n",
    "    while n<limit:\n",
    "        next_state = random.choices(list(markov_model[curr_state].keys()),\n",
    "                                    list(markov_model[curr_state].values()))\n",
    "        \n",
    "        curr_state = next_state[0]\n",
    "        story+=curr_state+\" \"\n",
    "        n+=1\n",
    "    return story"
   ]
  },
  {
   "cell_type": "code",
   "execution_count": 15,
   "metadata": {},
   "outputs": [
    {
     "name": "stdout",
     "output_type": "stream",
     "text": [
      "1.  dear holmes oh yes he is one of the most concentrated attention it does not turn pale he \n",
      "2.  dear holmes said i desire to see him very much together for south africa and many a time \n",
      "3.  dear holmes said i the gentleman i describe but who is he like this can you give me \n",
      "4.  dear holmes you are you can is it not possible i suggested that the man knew he was \n",
      "5.  dear holmes it is such a fate upon his own grounds nothing would induce the countess of morcar \n",
      "6.  dear holmes i exclaimed in unfeigned admiration it is so short that i can see nothing presently he \n",
      "7.  dear holmes i ejaculated commonplace said holmes though how you know these things steiner is the second time \n",
      "8.  dear holmes i thought of the servants there are only a few very ordinary individual after all i \n",
      "9.  dear holmes i thought it was a typical country practitioner he was right in this district until chester \n",
      "10.  dear holmes i ejaculated my dear fellow it is at sir what an idea of how she met \n",
      "11.  dear holmes i exclaimed so far so good as to prevent my seeing through them i fancy old \n",
      "12.  dear holmes i fear that watson he is not particulary intelligent not a man as professor moriarty were \n",
      "13.  dear holmes said i with a dull thud ran up to an agent without putting myself in his \n",
      "14.  dear holmes i ejaculated no for it was clear that we shall engage to clear you of the \n",
      "15.  dear holmes i fear inadmissible for the same position as myself whose crime had been reported from that \n",
      "16.  dear holmes oh yes i know little of the law can not conceive an explanation simply as a \n",
      "17.  dear holmes i exclaimed oh the cunning rascal this is a big pitcher of water and the colour \n",
      "18.  dear holmes i fear that your creditors will impound the banking account of mr rucastle who was waiting \n",
      "19.  dear holmes i have him i was anxiously pondering the open window yes you will not contradict you \n",
      "20.  dear holmes what do you make of that voyage i was promoted and the balance of military power \n"
     ]
    }
   ],
   "source": [
    "for i in range(1,21):\n",
    "    print(str(i)+\". \", generate_story(markov_model, start=\"dear holmes\", limit=8))"
   ]
  },
  {
   "cell_type": "code",
   "execution_count": 14,
   "metadata": {},
   "outputs": [
    {
     "name": "stdout",
     "output_type": "stream",
     "text": [
      "1.  my dear sir said he only plans but she had spent so short a time before i could \n",
      "2.  my dear boy it was simplicity itself for finding that he had placed his elbows upon his knees \n",
      "3.  my dear holmes said jabez wilson and let me have the private life of my client to her \n",
      "4.  my dear sir such a course if any one is as deep as the dropping of a bouquet \n",
      "5.  my dear fellow we shall take what you held how do you think mr cubitt said he at \n",
      "6.  my dear fellow we cant help you lestrade could you know anything definite i am in the hands \n",
      "7.  my dear madam said holmes cheerily my name masser holmes ill remember ive got it he never came \n",
      "8.  my dear watson take a course of miss presburys room mr bennett these two implements he trotted noiselessly \n",
      "9.  my dear fellow he is when you are a private concern of mine tell me why under these \n",
      "10.  my dear holmes oh indeed you are alone there is immediate danger was his cry i seized a \n",
      "11.  my dear watson of telling a story dr watson but if i am in your hands but i \n",
      "12.  my dear watson you look regularly done lie down there i found a small landing with another passage \n",
      "13.  my dear watson said he now mr brown i am aware of my presence her appearance and the \n",
      "14.  my dear fellow you shall keep watch in the street having reached the union jack with the stars \n",
      "15.  my dear mr mac but i am a little upset and you will contradict me if you have \n",
      "16.  my dear fellow you exaggerate i have some recollection of all that there was a bit and then \n",
      "17.  my dear sir cried dr mortimer looked at them my wife had already gone upstairs and look into \n",
      "18.  my dear holmes that was the beginning of an assault if our job is done or to pain \n",
      "19.  my dear watson that these facts watson i fancy that you have come mr thaddeus sir i am \n",
      "20.  my dear fellow there lies the solution of the mystery began to find that a woman one towel \n"
     ]
    }
   ],
   "source": [
    "for i in range(1,21):\n",
    "    print(str(i)+\". \", generate_story(markov_model, start=\"my dear\", limit=8))"
   ]
  },
  {
   "cell_type": "code",
   "execution_count": 13,
   "metadata": {},
   "outputs": [
    {
     "name": "stdout",
     "output_type": "stream",
     "text": [
      "1.  i would have told me you have seen you she told me to examine it as well to \n",
      "2.  i would take a cab to wait i seem to him that was my mate and hed get \n",
      "3.  i would have brought their slanders before me i wondered as i turned into a court of law \n",
      "4.  i would read as follows old jewry nov re vampires sir referring to your majesty said holmes coldly \n",
      "5.  i would not have been the last man out where the treasure which shall be a very old \n",
      "6.  i would swear to you upon a successful elderly medical man since that is important and i shall \n",
      "7.  i would have allowed anyone to pass through at the end of this business mr abe slaney elriges \n",
      "8.  i would have you not it does sherlock and yet i know nothing myself save what i have \n",
      "9.  i would consider in the meanwhile what could it be which leads from merripit house to the scar \n",
      "10.  i would give so much to cover your men what do you recommend holmes shook his head women \n",
      "11.  i would never have been born as he is unknown i beg to state that i was awakened \n",
      "12.  i would appear next monday i had only one confidant my brother is very good of lord st \n",
      "13.  i would wish to be a jagged cut some two inches long at the commissionaires office and putting \n",
      "14.  i would send you a wire from hilton cubitt this morning you can think of none other than \n",
      "15.  i would only ask you now is such a very large he unrolled one section and held it \n",
      "16.  i would dog them and follow two tracks instead of keeping out on the contrary i think that \n",
      "17.  i would rather have that one and put the investigation i found to my friend and he spent \n",
      "18.  i would have spared you when you began to feel that i never raised hand against the sloping \n",
      "19.  i would rather die under my dresses you could not manage it in my store and i refuse \n",
      "20.  i would respond to such a ferment sir that i cant put my hand on his arrival it \n"
     ]
    }
   ],
   "source": [
    "for i in range(1,21):\n",
    "    print(str(i)+\". \", generate_story(markov_model, start=\"i would\", limit=8))"
   ]
  },
  {
   "cell_type": "code",
   "execution_count": 16,
   "metadata": {},
   "outputs": [
    {
     "name": "stdout",
     "output_type": "stream",
     "text": [
      "the case seemed to dilate with a purely arbitrary one it may seem to be faced you must know that in this island what do you think he is coming and there we found in his ways he was himself dependent as he explained his process of deduction and of a maid came out in the morning i went to my heart was flint for he is as i feared that you should have gone a few minutes open the door i was staggered and had always been my dream mr holmes said she for three years as jockey and for seven hours i left the room we stood at the top and we bought country estates for more than to forcibly take his slip of paper which i have no doubt he would shortly inherit it finally having drawn every other cover and picked up the morning what on earth are we to do i may be very necessary to find it in the daytime then creeping up to town and eventually he was compelled therefore to think that possibly i can attain you neednt go into court at all god help me how do you know what that means hes \n"
     ]
    }
   ],
   "source": [
    "print(generate_story(markov_model, start=\"the case\", limit=100))"
   ]
  }
 ],
 "metadata": {
  "kernelspec": {
   "display_name": "Python 3",
   "language": "python",
   "name": "python3"
  },
  "language_info": {
   "codemirror_mode": {
    "name": "ipython",
    "version": 3
   },
   "file_extension": ".py",
   "mimetype": "text/x-python",
   "name": "python",
   "nbconvert_exporter": "python",
   "pygments_lexer": "ipython3",
   "version": "3.10.11"
  },
  "orig_nbformat": 4
 },
 "nbformat": 4,
 "nbformat_minor": 2
}
